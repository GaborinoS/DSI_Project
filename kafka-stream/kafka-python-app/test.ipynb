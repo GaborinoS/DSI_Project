{
 "cells": [
  {
   "cell_type": "code",
   "execution_count": null,
   "metadata": {},
   "outputs": [],
   "source": [
    "import influxdb_client\n",
    "from influxdb import DataFrameClient\n",
    "from influxdb_client import InfluxDBClient, Point\n",
    "from influxdb_client.client.write_api import SYNCHRONOUS\n",
    "from influxdb_client.client.write_api import ASYNCHRONOUS\n",
    "\n",
    "#InfluxDB connection\n",
    "bucket = \"DSI_test\"\n",
    "#token =\"yxk8_Or5qHZJxrhJE3SkAnTQSViQCsmrUoR0xPZd_0scy1T8FTuL1cKSTDKh1ft8Bqs3Zbt7Rwkys-FzajIVFQ==\"\n",
    "token =\"GMbnHWGhM9p9t9mIjbc1I5KlWir8LJxBDkpMF0SiOa56f1nvLepCEN7iI_5-sR80FA8CvLmf_mHcy8Gc5XYwvA==\"\n",
    "org=\"dsi\"\n",
    "client = InfluxDBClient(url=\"http://localhost:8086\", token=token, org=org)\n",
    "#client = InfluxDBClient(url=\"http://172.19.0.2:8086\", token=token, org=org)\n"
   ]
  },
  {
   "cell_type": "code",
   "execution_count": null,
   "metadata": {},
   "outputs": [],
   "source": [
    "data = yf.download(tickers='IBM', period='1d', interval='1m')"
   ]
  },
  {
   "cell_type": "markdown",
   "metadata": {},
   "source": []
  },
  {
   "cell_type": "code",
   "execution_count": null,
   "metadata": {},
   "outputs": [],
   "source": [
    "with client.write_api(write_options=SYNCHRONOUS) as writer:\n",
    "    writer.write(\n",
    "        bucket=bucket,\n",
    "        record=data,\n",
    "        data_frame_measurement_name=\"key2\",\n",
    "        #data_frame_tag_columns=[\"symbol\"],\n",
    "        data_frame_field_columns=[\"Open\", \"High\", \"Low\", \"Close\", \"Adj Close\", \"Volume\"]\n",
    "        )"
   ]
  }
 ],
 "metadata": {
  "language_info": {
   "name": "python"
  },
  "orig_nbformat": 4
 },
 "nbformat": 4,
 "nbformat_minor": 2
}
