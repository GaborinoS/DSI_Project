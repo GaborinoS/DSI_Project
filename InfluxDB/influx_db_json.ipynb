{
 "cells": [
  {
   "cell_type": "code",
   "execution_count": 12,
   "metadata": {},
   "outputs": [],
   "source": [
    "\n",
    "from dateutil import parser\n",
    "import json\n",
    "from influxdb_client import InfluxDBClient, Point\n",
    "from influxdb_client.client.write_api import SYNCHRONOUS\n",
    "import requests\n",
    "import json\n",
    "from string import Template\n",
    "import pandas as pd\n",
    "\n",
    "\n"
   ]
  },
  {
   "cell_type": "code",
   "execution_count": null,
   "metadata": {},
   "outputs": [],
   "source": [
    "symbols = ['IBM']\n",
    "\n",
    "url = Template('https://www.alphavantage.co/query?function=TIME_SERIES_INTRADAY&symbol=$symbol&interval=5min&apikey=5LZM13OZQMZFPU92')\n",
    "\n",
    "for symbol in symbols:\n",
    "    r = requests.get(url.substitute(symbol=symbol))\n",
    "    data = r.json()\n",
    "\n",
    "    print(data)\n",
    "\n"
   ]
  },
  {
   "cell_type": "code",
   "execution_count": 20,
   "metadata": {},
   "outputs": [
    {
     "data": {
      "text/html": [
       "<div>\n",
       "<style scoped>\n",
       "    .dataframe tbody tr th:only-of-type {\n",
       "        vertical-align: middle;\n",
       "    }\n",
       "\n",
       "    .dataframe tbody tr th {\n",
       "        vertical-align: top;\n",
       "    }\n",
       "\n",
       "    .dataframe thead th {\n",
       "        text-align: right;\n",
       "    }\n",
       "</style>\n",
       "<table border=\"1\" class=\"dataframe\">\n",
       "  <thead>\n",
       "    <tr style=\"text-align: right;\">\n",
       "      <th></th>\n",
       "      <th>1. open</th>\n",
       "      <th>2. high</th>\n",
       "      <th>3. low</th>\n",
       "      <th>4. close</th>\n",
       "      <th>5. volume</th>\n",
       "    </tr>\n",
       "  </thead>\n",
       "  <tbody>\n",
       "    <tr>\n",
       "      <th>2023-01-19 19:50:00</th>\n",
       "      <td>140.7200</td>\n",
       "      <td>140.7200</td>\n",
       "      <td>140.7200</td>\n",
       "      <td>140.7200</td>\n",
       "      <td>151</td>\n",
       "    </tr>\n",
       "    <tr>\n",
       "      <th>2023-01-19 18:50:00</th>\n",
       "      <td>140.6200</td>\n",
       "      <td>140.6200</td>\n",
       "      <td>140.6200</td>\n",
       "      <td>140.6200</td>\n",
       "      <td>610</td>\n",
       "    </tr>\n",
       "    <tr>\n",
       "      <th>2023-01-19 18:45:00</th>\n",
       "      <td>140.6500</td>\n",
       "      <td>140.6500</td>\n",
       "      <td>140.6000</td>\n",
       "      <td>140.6400</td>\n",
       "      <td>744</td>\n",
       "    </tr>\n",
       "    <tr>\n",
       "      <th>2023-01-19 17:45:00</th>\n",
       "      <td>140.7999</td>\n",
       "      <td>140.7999</td>\n",
       "      <td>140.7999</td>\n",
       "      <td>140.7999</td>\n",
       "      <td>254</td>\n",
       "    </tr>\n",
       "    <tr>\n",
       "      <th>2023-01-19 17:35:00</th>\n",
       "      <td>140.8000</td>\n",
       "      <td>140.8000</td>\n",
       "      <td>140.6200</td>\n",
       "      <td>140.6200</td>\n",
       "      <td>524</td>\n",
       "    </tr>\n",
       "    <tr>\n",
       "      <th>...</th>\n",
       "      <td>...</td>\n",
       "      <td>...</td>\n",
       "      <td>...</td>\n",
       "      <td>...</td>\n",
       "      <td>...</td>\n",
       "    </tr>\n",
       "    <tr>\n",
       "      <th>2023-01-19 07:25:00</th>\n",
       "      <td>140.0500</td>\n",
       "      <td>140.0500</td>\n",
       "      <td>140.0200</td>\n",
       "      <td>140.0200</td>\n",
       "      <td>941</td>\n",
       "    </tr>\n",
       "    <tr>\n",
       "      <th>2023-01-19 07:10:00</th>\n",
       "      <td>140.1400</td>\n",
       "      <td>140.1400</td>\n",
       "      <td>140.1400</td>\n",
       "      <td>140.1400</td>\n",
       "      <td>501</td>\n",
       "    </tr>\n",
       "    <tr>\n",
       "      <th>2023-01-19 06:40:00</th>\n",
       "      <td>140.1400</td>\n",
       "      <td>140.1600</td>\n",
       "      <td>140.1400</td>\n",
       "      <td>140.1600</td>\n",
       "      <td>1364</td>\n",
       "    </tr>\n",
       "    <tr>\n",
       "      <th>2023-01-18 18:40:00</th>\n",
       "      <td>140.2000</td>\n",
       "      <td>140.2000</td>\n",
       "      <td>140.2000</td>\n",
       "      <td>140.2000</td>\n",
       "      <td>100</td>\n",
       "    </tr>\n",
       "    <tr>\n",
       "      <th>2023-01-18 18:25:00</th>\n",
       "      <td>140.2000</td>\n",
       "      <td>140.2400</td>\n",
       "      <td>140.2000</td>\n",
       "      <td>140.2400</td>\n",
       "      <td>776</td>\n",
       "    </tr>\n",
       "  </tbody>\n",
       "</table>\n",
       "<p>100 rows × 5 columns</p>\n",
       "</div>"
      ],
      "text/plain": [
       "                      1. open   2. high    3. low  4. close 5. volume\n",
       "2023-01-19 19:50:00  140.7200  140.7200  140.7200  140.7200       151\n",
       "2023-01-19 18:50:00  140.6200  140.6200  140.6200  140.6200       610\n",
       "2023-01-19 18:45:00  140.6500  140.6500  140.6000  140.6400       744\n",
       "2023-01-19 17:45:00  140.7999  140.7999  140.7999  140.7999       254\n",
       "2023-01-19 17:35:00  140.8000  140.8000  140.6200  140.6200       524\n",
       "...                       ...       ...       ...       ...       ...\n",
       "2023-01-19 07:25:00  140.0500  140.0500  140.0200  140.0200       941\n",
       "2023-01-19 07:10:00  140.1400  140.1400  140.1400  140.1400       501\n",
       "2023-01-19 06:40:00  140.1400  140.1600  140.1400  140.1600      1364\n",
       "2023-01-18 18:40:00  140.2000  140.2000  140.2000  140.2000       100\n",
       "2023-01-18 18:25:00  140.2000  140.2400  140.2000  140.2400       776\n",
       "\n",
       "[100 rows x 5 columns]"
      ]
     },
     "execution_count": 20,
     "metadata": {},
     "output_type": "execute_result"
    }
   ],
   "source": [
    "#make json to dataframe\n",
    "\n",
    "df = pd.DataFrame(data['Time Series (5min)']).T\n",
    "df"
   ]
  },
  {
   "cell_type": "code",
   "execution_count": 10,
   "metadata": {},
   "outputs": [
    {
     "data": {
      "text/plain": [
       "<influxdb_client.client.write.point.Point at 0x25fc9428400>"
      ]
     },
     "execution_count": 10,
     "metadata": {},
     "output_type": "execute_result"
    }
   ],
   "source": [
    "bucket = \"DSI_test\"\n",
    "token =\"yxk8_Or5qHZJxrhJE3SkAnTQSViQCsmrUoR0xPZd_0scy1T8FTuL1cKSTDKh1ft8Bqs3Zbt7Rwkys-FzajIVFQ==\"\n",
    "org=\"DSI\"\n",
    "client = InfluxDBClient(url=\"http://localhost:8086\", token=token, org=org)\n",
    "\n",
    "\n",
    "point = Point(\"weather\")\n",
    "with open(\"weather.json\", \"r\") as json_file:\n",
    "    data = json.load(json_file)\n",
    "\n",
    "    point.tag(\"station\", data[\"name\"])\n",
    "    point.time(parser.parse(data[\"updated\"]))\n",
    "    for key, value in data[\"sensors\"].items():\n",
    "        point.field(key, value)\n",
    "\n"
   ]
  },
  {
   "cell_type": "code",
   "execution_count": 11,
   "metadata": {},
   "outputs": [],
   "source": [
    "\n",
    "with client.write_api(write_options=SYNCHRONOUS) as writer:\n",
    "    try:\n",
    "        writer.write(bucket=bucket, record=[point])\n",
    "    except InfluxDBError as e:\n",
    "        print(e)"
   ]
  }
 ],
 "metadata": {
  "kernelspec": {
   "display_name": "base",
   "language": "python",
   "name": "python3"
  },
  "language_info": {
   "codemirror_mode": {
    "name": "ipython",
    "version": 3
   },
   "file_extension": ".py",
   "mimetype": "text/x-python",
   "name": "python",
   "nbconvert_exporter": "python",
   "pygments_lexer": "ipython3",
   "version": "3.9.12"
  },
  "orig_nbformat": 4,
  "vscode": {
   "interpreter": {
    "hash": "f0772a89b7b7552231f8b4808588399a8029470ff763161a0caeccf5fec49431"
   }
  }
 },
 "nbformat": 4,
 "nbformat_minor": 2
}
