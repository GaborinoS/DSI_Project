{
 "cells": [
  {
   "cell_type": "code",
   "execution_count": 163,
   "metadata": {},
   "outputs": [],
   "source": [
    "#!/usr/bin/python3\n",
    "import pandas as pd\n",
    "import json\n",
    "\n",
    "import influxdb_client\n",
    "from influxdb import DataFrameClient\n",
    "from influxdb_client import InfluxDBClient, Point\n",
    "from influxdb_client.client.write_api import SYNCHRONOUS\n",
    "\n",
    "from dateutil import parser\n",
    "import requests\n",
    "from string import Template\n"
   ]
  },
  {
   "cell_type": "code",
   "execution_count": 164,
   "metadata": {},
   "outputs": [
    {
     "name": "stdout",
     "output_type": "stream",
     "text": [
      "                              School Class  Students  Absent\n",
      "TimeStamp                                                   \n",
      "2020-05-09 17:45:00+00:00      USSMS   UKG        30       3\n",
      "2020-05-09 17:45:00+00:00      USSMS    10        50       2\n",
      "2020-05-09 17:45:00+00:00      USSMS     8        40       0\n",
      "2020-05-09 18:45:00+00:00  St Thomas   Nur        30       4\n",
      "2020-05-09 18:45:00+00:00  St Thomas     6        55       4\n"
     ]
    }
   ],
   "source": [
    "# Use only following fields from CSV. \n",
    "Fields = ['TimeStamp','School','Class','Students','Absent']\n",
    "# Define tag fields\n",
    "datatags = ['School','Class']\n",
    "# Define fixed tags\n",
    "fixtags = {\"Country\": \"India\", \"State\": \"Haryana\", \"City\": \"Kurukshetra\"}\n",
    "\n",
    "# Read data from CSV without index and parse 'TimeStamp' as date.\n",
    "df = pd.read_csv(\"sample.csv\", sep=';', index_col=False, parse_dates=['TimeStamp'], usecols=Fields)\n",
    "\n",
    "# Set 'TimeStamp' field as index of dataframe\n",
    "df.set_index('TimeStamp', inplace = True)\n",
    "\n",
    "print(df.head())"
   ]
  },
  {
   "cell_type": "code",
   "execution_count": 165,
   "metadata": {},
   "outputs": [],
   "source": [
    "from influxdb_client import InfluxDBClient, Point\n",
    "from influxdb_client.client.write_api import SYNCHRONOUS\n",
    "\n",
    "bucket = \"DSI_test\"\n",
    "token =\"yxk8_Or5qHZJxrhJE3SkAnTQSViQCsmrUoR0xPZd_0scy1T8FTuL1cKSTDKh1ft8Bqs3Zbt7Rwkys-FzajIVFQ==\"\n",
    "org=\"DSI\"\n",
    "client = InfluxDBClient(url=\"http://localhost:8086\", token=token, org=org)"
   ]
  },
  {
   "cell_type": "code",
   "execution_count": 166,
   "metadata": {},
   "outputs": [],
   "source": [
    "write_api = client.write_api(write_options=SYNCHRONOUS)\n",
    "query_api = client.query_api()"
   ]
  },
  {
   "cell_type": "code",
   "execution_count": 167,
   "metadata": {},
   "outputs": [],
   "source": [
    "\n",
    "from influxdb_client.client.write_api import ASYNCHRONOUS\n",
    "\n",
    "records = pd.DataFrame(\n",
    "    data=[\n",
    "        [\"0\", 25.3, 1657729063],\n",
    "    \t  [\"0\", 25.4, 1657729078],\n",
    "    \t  [\"0\", 25.2, 1657729093],\n",
    "    ],\n",
    "    columns=[\"core\", \"temp\", \"timestamp\"],\n",
    ")\n",
    "records[\"timestamp\"] = pd.to_datetime(records[\"timestamp\"], unit=\"s\")\n",
    "records.set_index(\"timestamp\", inplace=True)\n",
    "#records.drop(colums=[\"core\"], inplace=True)\n",
    "\n",
    "with client.write_api(write_options=ASYNCHRONOUS) as writer:\n",
    "    writer.write(\n",
    "        bucket=bucket,\n",
    "        record=records,\n",
    "        data_frame_measurement_name=\"cpu3\",\n",
    "        data_frame_tag_columns=[\"core\"]\n",
    "        )"
   ]
  },
  {
   "cell_type": "code",
   "execution_count": 168,
   "metadata": {},
   "outputs": [],
   "source": [
    "with client.write_api(write_options=ASYNCHRONOUS) as writer:\n",
    "    writer.write(\n",
    "        bucket=bucket,\n",
    "        record=df,\n",
    "        data_frame_measurement_name=\"student\",\n",
    "        data_frame_tag_columns=datatags,\n",
    "        data_frame_field_columns=[\"Students\", \"Absent\"]\n",
    "        )\n"
   ]
  },
  {
   "cell_type": "code",
   "execution_count": null,
   "metadata": {},
   "outputs": [],
   "source": []
  },
  {
   "cell_type": "code",
   "execution_count": 169,
   "metadata": {},
   "outputs": [],
   "source": [
    "symbols = ['IBM']\n",
    "\n",
    "url = Template('https://www.alphavantage.co/query?function=TIME_SERIES_INTRADAY&symbol=$symbol&interval=5min&apikey=5LZM13OZQMZFPU92')\n",
    "\n",
    "for symbol in symbols:\n",
    "    r = requests.get(url.substitute(symbol=symbol))\n",
    "    data = r.json()\n",
    "\n",
    "    #print(data)\n",
    "\n",
    "#make json to dataframe\n",
    "\n",
    "df_IBM = pd.DataFrame(data['Time Series (5min)']).T\n"
   ]
  },
  {
   "cell_type": "code",
   "execution_count": 170,
   "metadata": {},
   "outputs": [],
   "source": [
    "df_IBM.columns = ['open', 'high', 'low', 'close', 'volume']\n",
    "\n",
    "#change col types to float\n",
    "\n",
    "df_IBM = df_IBM.astype(float)\n"
   ]
  },
  {
   "cell_type": "code",
   "execution_count": 171,
   "metadata": {},
   "outputs": [],
   "source": [
    "with client.write_api(write_options=ASYNCHRONOUS) as writer:\n",
    "    writer.write(\n",
    "        bucket=bucket,\n",
    "        record=df_IBM,\n",
    "        data_frame_measurement_name=\"IBM_2\",\n",
    "        data_frame_tag_columns=[\"symbol\"],\n",
    "        data_frame_field_columns=[\"open\", \"high\", \"low\", \"close\", \"volume\"]\n",
    "        )"
   ]
  },
  {
   "cell_type": "code",
   "execution_count": 172,
   "metadata": {},
   "outputs": [
    {
     "data": {
      "text/html": [
       "<div>\n",
       "<style scoped>\n",
       "    .dataframe tbody tr th:only-of-type {\n",
       "        vertical-align: middle;\n",
       "    }\n",
       "\n",
       "    .dataframe tbody tr th {\n",
       "        vertical-align: top;\n",
       "    }\n",
       "\n",
       "    .dataframe thead th {\n",
       "        text-align: right;\n",
       "    }\n",
       "</style>\n",
       "<table border=\"1\" class=\"dataframe\">\n",
       "  <thead>\n",
       "    <tr style=\"text-align: right;\">\n",
       "      <th></th>\n",
       "      <th>open</th>\n",
       "      <th>high</th>\n",
       "      <th>low</th>\n",
       "      <th>close</th>\n",
       "      <th>volume</th>\n",
       "    </tr>\n",
       "  </thead>\n",
       "  <tbody>\n",
       "    <tr>\n",
       "      <th>2023-01-19 19:50:00</th>\n",
       "      <td>140.7200</td>\n",
       "      <td>140.7200</td>\n",
       "      <td>140.7200</td>\n",
       "      <td>140.7200</td>\n",
       "      <td>151.0</td>\n",
       "    </tr>\n",
       "    <tr>\n",
       "      <th>2023-01-19 18:50:00</th>\n",
       "      <td>140.6200</td>\n",
       "      <td>140.6200</td>\n",
       "      <td>140.6200</td>\n",
       "      <td>140.6200</td>\n",
       "      <td>610.0</td>\n",
       "    </tr>\n",
       "    <tr>\n",
       "      <th>2023-01-19 18:45:00</th>\n",
       "      <td>140.6500</td>\n",
       "      <td>140.6500</td>\n",
       "      <td>140.6000</td>\n",
       "      <td>140.6400</td>\n",
       "      <td>744.0</td>\n",
       "    </tr>\n",
       "    <tr>\n",
       "      <th>2023-01-19 17:45:00</th>\n",
       "      <td>140.7999</td>\n",
       "      <td>140.7999</td>\n",
       "      <td>140.7999</td>\n",
       "      <td>140.7999</td>\n",
       "      <td>254.0</td>\n",
       "    </tr>\n",
       "    <tr>\n",
       "      <th>2023-01-19 17:35:00</th>\n",
       "      <td>140.8000</td>\n",
       "      <td>140.8000</td>\n",
       "      <td>140.6200</td>\n",
       "      <td>140.6200</td>\n",
       "      <td>524.0</td>\n",
       "    </tr>\n",
       "    <tr>\n",
       "      <th>...</th>\n",
       "      <td>...</td>\n",
       "      <td>...</td>\n",
       "      <td>...</td>\n",
       "      <td>...</td>\n",
       "      <td>...</td>\n",
       "    </tr>\n",
       "    <tr>\n",
       "      <th>2023-01-19 07:25:00</th>\n",
       "      <td>140.0500</td>\n",
       "      <td>140.0500</td>\n",
       "      <td>140.0200</td>\n",
       "      <td>140.0200</td>\n",
       "      <td>941.0</td>\n",
       "    </tr>\n",
       "    <tr>\n",
       "      <th>2023-01-19 07:10:00</th>\n",
       "      <td>140.1400</td>\n",
       "      <td>140.1400</td>\n",
       "      <td>140.1400</td>\n",
       "      <td>140.1400</td>\n",
       "      <td>501.0</td>\n",
       "    </tr>\n",
       "    <tr>\n",
       "      <th>2023-01-19 06:40:00</th>\n",
       "      <td>140.1400</td>\n",
       "      <td>140.1600</td>\n",
       "      <td>140.1400</td>\n",
       "      <td>140.1600</td>\n",
       "      <td>1364.0</td>\n",
       "    </tr>\n",
       "    <tr>\n",
       "      <th>2023-01-18 18:40:00</th>\n",
       "      <td>140.2000</td>\n",
       "      <td>140.2000</td>\n",
       "      <td>140.2000</td>\n",
       "      <td>140.2000</td>\n",
       "      <td>100.0</td>\n",
       "    </tr>\n",
       "    <tr>\n",
       "      <th>2023-01-18 18:25:00</th>\n",
       "      <td>140.2000</td>\n",
       "      <td>140.2400</td>\n",
       "      <td>140.2000</td>\n",
       "      <td>140.2400</td>\n",
       "      <td>776.0</td>\n",
       "    </tr>\n",
       "  </tbody>\n",
       "</table>\n",
       "<p>100 rows × 5 columns</p>\n",
       "</div>"
      ],
      "text/plain": [
       "                         open      high       low     close  volume\n",
       "2023-01-19 19:50:00  140.7200  140.7200  140.7200  140.7200   151.0\n",
       "2023-01-19 18:50:00  140.6200  140.6200  140.6200  140.6200   610.0\n",
       "2023-01-19 18:45:00  140.6500  140.6500  140.6000  140.6400   744.0\n",
       "2023-01-19 17:45:00  140.7999  140.7999  140.7999  140.7999   254.0\n",
       "2023-01-19 17:35:00  140.8000  140.8000  140.6200  140.6200   524.0\n",
       "...                       ...       ...       ...       ...     ...\n",
       "2023-01-19 07:25:00  140.0500  140.0500  140.0200  140.0200   941.0\n",
       "2023-01-19 07:10:00  140.1400  140.1400  140.1400  140.1400   501.0\n",
       "2023-01-19 06:40:00  140.1400  140.1600  140.1400  140.1600  1364.0\n",
       "2023-01-18 18:40:00  140.2000  140.2000  140.2000  140.2000   100.0\n",
       "2023-01-18 18:25:00  140.2000  140.2400  140.2000  140.2400   776.0\n",
       "\n",
       "[100 rows x 5 columns]"
      ]
     },
     "execution_count": 172,
     "metadata": {},
     "output_type": "execute_result"
    }
   ],
   "source": [
    "df_IBM"
   ]
  }
 ],
 "metadata": {
  "kernelspec": {
   "display_name": "base",
   "language": "python",
   "name": "python3"
  },
  "language_info": {
   "codemirror_mode": {
    "name": "ipython",
    "version": 3
   },
   "file_extension": ".py",
   "mimetype": "text/x-python",
   "name": "python",
   "nbconvert_exporter": "python",
   "pygments_lexer": "ipython3",
   "version": "3.9.12"
  },
  "orig_nbformat": 4,
  "vscode": {
   "interpreter": {
    "hash": "f0772a89b7b7552231f8b4808588399a8029470ff763161a0caeccf5fec49431"
   }
  }
 },
 "nbformat": 4,
 "nbformat_minor": 2
}
