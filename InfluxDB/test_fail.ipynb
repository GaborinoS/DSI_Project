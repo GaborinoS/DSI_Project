{
 "cells": [
  {
   "cell_type": "code",
   "execution_count": 27,
   "metadata": {},
   "outputs": [],
   "source": [
    "#!/usr/bin/python3\n",
    "import pandas as pd\n",
    "import json\n",
    "from influxdb import InfluxDBClient\n",
    "import influxdb_client"
   ]
  },
  {
   "cell_type": "code",
   "execution_count": 9,
   "metadata": {},
   "outputs": [
    {
     "name": "stdout",
     "output_type": "stream",
     "text": [
      "                              School Class  Students  Absent\n",
      "TimeStamp                                                   \n",
      "2020-05-09 17:45:00+00:00      USSMS   UKG        30       3\n",
      "2020-05-09 17:45:00+00:00      USSMS    10        50       2\n",
      "2020-05-09 17:45:00+00:00      USSMS     8        40       0\n",
      "2020-05-09 18:45:00+00:00  St Thomas   Nur        30       4\n",
      "2020-05-09 18:45:00+00:00  St Thomas     6        55       4\n"
     ]
    }
   ],
   "source": [
    "# Use only following fields from CSV. \n",
    "Fields = ['TimeStamp','School','Class','Students','Absent']\n",
    "# Define tag fields\n",
    "datatags = ['School','Class']\n",
    "# Define fixed tags\n",
    "fixtags = {\"Country\": \"India\", \"State\": \"Haryana\", \"City\": \"Kurukshetra\"}\n",
    "\n",
    "# Read data from CSV without index and parse 'TimeStamp' as date.\n",
    "df = pd.read_csv(\"sample.csv\", sep=';', index_col=False, parse_dates=['TimeStamp'], usecols=Fields)\n",
    "\n",
    "# Set 'TimeStamp' field as index of dataframe\n",
    "df.set_index('TimeStamp', inplace = True)\n",
    "\n",
    "print(df.head())"
   ]
  },
  {
   "cell_type": "code",
   "execution_count": 30,
   "metadata": {},
   "outputs": [
    {
     "ename": "TypeError",
     "evalue": "'module' object is not callable",
     "output_type": "error",
     "traceback": [
      "\u001b[1;31m---------------------------------------------------------------------------\u001b[0m",
      "\u001b[1;31mTypeError\u001b[0m                                 Traceback (most recent call last)",
      "\u001b[1;32mUntitled-1.ipynb Cell 3\u001b[0m in \u001b[0;36m<cell line: 1>\u001b[1;34m()\u001b[0m\n\u001b[1;32m----> <a href='vscode-notebook-cell:Untitled-1.ipynb?jupyter-notebook#W2sdW50aXRsZWQ%3D?line=0'>1</a>\u001b[0m client \u001b[39m=\u001b[39m influxdb_client(host\u001b[39m=\u001b[39;49m\u001b[39m'\u001b[39;49m\u001b[39mlocalhost\u001b[39;49m\u001b[39m'\u001b[39;49m, port\u001b[39m=\u001b[39;49m\u001b[39m8086\u001b[39;49m)\n",
      "\u001b[1;31mTypeError\u001b[0m: 'module' object is not callable"
     ]
    }
   ],
   "source": [
    "client = influxdb_client(host='localhost', port=8086)\n"
   ]
  },
  {
   "cell_type": "code",
   "execution_count": 29,
   "metadata": {},
   "outputs": [
    {
     "ename": "InfluxDBClientError",
     "evalue": "401: {\"code\":\"unauthorized\",\"message\":\"Unauthorized\"}",
     "output_type": "error",
     "traceback": [
      "\u001b[1;31m---------------------------------------------------------------------------\u001b[0m",
      "\u001b[1;31mInfluxDBClientError\u001b[0m                       Traceback (most recent call last)",
      "\u001b[1;32mUntitled-1.ipynb Cell 4\u001b[0m in \u001b[0;36m<cell line: 1>\u001b[1;34m()\u001b[0m\n\u001b[1;32m----> <a href='vscode-notebook-cell:Untitled-1.ipynb?jupyter-notebook#W3sdW50aXRsZWQ%3D?line=0'>1</a>\u001b[0m client\u001b[39m.\u001b[39;49mcreate_database(\u001b[39m'\u001b[39;49m\u001b[39mtest\u001b[39;49m\u001b[39m'\u001b[39;49m)\n",
      "File \u001b[1;32mc:\\Users\\gabri\\anaconda3\\lib\\site-packages\\influxdb\\client.py:746\u001b[0m, in \u001b[0;36mInfluxDBClient.create_database\u001b[1;34m(self, dbname)\u001b[0m\n\u001b[0;32m    740\u001b[0m \u001b[39mdef\u001b[39;00m \u001b[39mcreate_database\u001b[39m(\u001b[39mself\u001b[39m, dbname):\n\u001b[0;32m    741\u001b[0m     \u001b[39m\"\"\"Create a new database in InfluxDB.\u001b[39;00m\n\u001b[0;32m    742\u001b[0m \n\u001b[0;32m    743\u001b[0m \u001b[39m    :param dbname: the name of the database to create\u001b[39;00m\n\u001b[0;32m    744\u001b[0m \u001b[39m    :type dbname: str\u001b[39;00m\n\u001b[0;32m    745\u001b[0m \u001b[39m    \"\"\"\u001b[39;00m\n\u001b[1;32m--> 746\u001b[0m     \u001b[39mself\u001b[39;49m\u001b[39m.\u001b[39;49mquery(\u001b[39m\"\u001b[39;49m\u001b[39mCREATE DATABASE \u001b[39;49m\u001b[39m{0}\u001b[39;49;00m\u001b[39m\"\u001b[39;49m\u001b[39m.\u001b[39;49mformat(quote_ident(dbname)),\n\u001b[0;32m    747\u001b[0m                method\u001b[39m=\u001b[39;49m\u001b[39m\"\u001b[39;49m\u001b[39mPOST\u001b[39;49m\u001b[39m\"\u001b[39;49m)\n",
      "File \u001b[1;32mc:\\Users\\gabri\\anaconda3\\lib\\site-packages\\influxdb\\client.py:521\u001b[0m, in \u001b[0;36mInfluxDBClient.query\u001b[1;34m(self, query, params, bind_params, epoch, expected_response_code, database, raise_errors, chunked, chunk_size, method)\u001b[0m\n\u001b[0;32m    518\u001b[0m \u001b[39mif\u001b[39;00m query\u001b[39m.\u001b[39mlower()\u001b[39m.\u001b[39mstartswith(\u001b[39m\"\u001b[39m\u001b[39mselect \u001b[39m\u001b[39m\"\u001b[39m) \u001b[39mand\u001b[39;00m \u001b[39m\"\u001b[39m\u001b[39m into \u001b[39m\u001b[39m\"\u001b[39m \u001b[39min\u001b[39;00m query\u001b[39m.\u001b[39mlower():\n\u001b[0;32m    519\u001b[0m     method \u001b[39m=\u001b[39m \u001b[39m\"\u001b[39m\u001b[39mPOST\u001b[39m\u001b[39m\"\u001b[39m\n\u001b[1;32m--> 521\u001b[0m response \u001b[39m=\u001b[39m \u001b[39mself\u001b[39;49m\u001b[39m.\u001b[39;49mrequest(\n\u001b[0;32m    522\u001b[0m     url\u001b[39m=\u001b[39;49m\u001b[39m\"\u001b[39;49m\u001b[39mquery\u001b[39;49m\u001b[39m\"\u001b[39;49m,\n\u001b[0;32m    523\u001b[0m     method\u001b[39m=\u001b[39;49mmethod,\n\u001b[0;32m    524\u001b[0m     params\u001b[39m=\u001b[39;49mparams,\n\u001b[0;32m    525\u001b[0m     data\u001b[39m=\u001b[39;49m\u001b[39mNone\u001b[39;49;00m,\n\u001b[0;32m    526\u001b[0m     stream\u001b[39m=\u001b[39;49mchunked,\n\u001b[0;32m    527\u001b[0m     expected_response_code\u001b[39m=\u001b[39;49mexpected_response_code\n\u001b[0;32m    528\u001b[0m )\n\u001b[0;32m    530\u001b[0m data \u001b[39m=\u001b[39m response\u001b[39m.\u001b[39m_msgpack\n\u001b[0;32m    531\u001b[0m \u001b[39mif\u001b[39;00m \u001b[39mnot\u001b[39;00m data:\n",
      "File \u001b[1;32mc:\\Users\\gabri\\anaconda3\\lib\\site-packages\\influxdb\\client.py:378\u001b[0m, in \u001b[0;36mInfluxDBClient.request\u001b[1;34m(self, url, method, params, data, stream, expected_response_code, headers)\u001b[0m\n\u001b[0;32m    376\u001b[0m \u001b[39melse\u001b[39;00m:\n\u001b[0;32m    377\u001b[0m     err_msg \u001b[39m=\u001b[39m reformat_error(response)\n\u001b[1;32m--> 378\u001b[0m     \u001b[39mraise\u001b[39;00m InfluxDBClientError(err_msg, response\u001b[39m.\u001b[39mstatus_code)\n",
      "\u001b[1;31mInfluxDBClientError\u001b[0m: 401: {\"code\":\"unauthorized\",\"message\":\"Unauthorized\"}"
     ]
    }
   ],
   "source": [
    "client.create_database('test')"
   ]
  }
 ],
 "metadata": {
  "kernelspec": {
   "display_name": "base",
   "language": "python",
   "name": "python3"
  },
  "language_info": {
   "codemirror_mode": {
    "name": "ipython",
    "version": 3
   },
   "file_extension": ".py",
   "mimetype": "text/x-python",
   "name": "python",
   "nbconvert_exporter": "python",
   "pygments_lexer": "ipython3",
   "version": "3.9.12"
  },
  "orig_nbformat": 4,
  "vscode": {
   "interpreter": {
    "hash": "f0772a89b7b7552231f8b4808588399a8029470ff763161a0caeccf5fec49431"
   }
  }
 },
 "nbformat": 4,
 "nbformat_minor": 2
}
