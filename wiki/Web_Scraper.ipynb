{
 "cells": [
  {
   "cell_type": "code",
   "execution_count": 129,
   "metadata": {},
   "outputs": [],
   "source": [
    "\n",
    "import pandas as pd\n",
    "import requests\n",
    "from bs4 import BeautifulSoup\n",
    "import time\n",
    "import re\n",
    "import numpy as np\n",
    "import json\n",
    "import os\n",
    "from psycopg2.extras import Json\n",
    "import psycopg2\n",
    "\n",
    "# Make the request to the Wikipedia page\n",
    "url = 'https://en.wikipedia.org/wiki/List_of_S%26P_500_companies'\n",
    "response = requests.get(url)\n",
    "\n",
    "# Parse the HTML content\n",
    "soup = BeautifulSoup(response.content, 'html.parser')\n",
    "\n",
    "# Extract the relevant information\n",
    "table = soup.find('table', {'class': 'wikitable sortable'})\n",
    "rows = table.find_all('tr')\n",
    "data = []\n",
    "for row in rows:\n",
    "    cells = row.find_all('td')\n",
    "    if len(cells) > 0:\n",
    "        symbol = cells[0].text.strip()\n",
    "        name = cells[1].find('a').get('title').replace(' ','_')\n",
    "        sector = cells[3].text.strip()\n",
    "        # Get the Wikipedia page for each company\n",
    "        company_url = f\"https://en.wikipedia.org/wiki/{name}\"\n",
    "        company_response = requests.get(company_url)\n",
    "        company_soup = BeautifulSoup(company_response.content, 'html.parser')\n",
    "        #company_text = company_soup.get_text()\n",
    "        data.append({'Symbol': symbol, 'Name': name, 'Sector': sector, 'Wikipedia Entry': company_soup})\n",
    "        #set system sleep to 1 second to avoid overloading the server\n",
    "        time.sleep(0.5)\n",
    "\n",
    "# Create a Dataframe\n",
    "df = pd.DataFrame(data)\n"
   ]
  },
  {
   "cell_type": "code",
   "execution_count": 166,
   "metadata": {},
   "outputs": [],
   "source": [
    "m=df.copy()\n",
    "#df = m.copy()\n",
    "#df.to_csv('SP500_Wikipedia.csv')\n",
    "#df =pd.read_csv('C:/Users/gabri/OneDrive/Desktop/FH_Stuff/DSI/SP500_Wikipedia.csv')"
   ]
  },
  {
   "cell_type": "code",
   "execution_count": 158,
   "metadata": {},
   "outputs": [],
   "source": [
    "Dataframes = []\n",
    "for t in range(0, len(df)):   \n",
    "    try:\n",
    "        ############################################### Read Table from Wikipedia Page ###############################################\n",
    "        comp = df.iloc[t]['Wikipedia Entry']\n",
    "\n",
    "        #find all tables in the wikipedia page\n",
    "        tables = comp.find_all('table')[0]\n",
    "        #find the table with the class 'infobox'\n",
    "        infobox = comp.find('table', {'class': 'infobox'})\n",
    "\n",
    "        #find  class 'infobox-label' in the infobox\n",
    "        infobox_label = infobox.find_all('th', {'class': 'infobox-label'})\n",
    "\n",
    "        #find  class 'infobox-data' in the infobox\n",
    "        infobox_data = infobox.find_all('td', {'class': 'infobox-data'})\n",
    "\n",
    "        #label text\n",
    "        infobox_label_text = [i.text for i in infobox_label]\n",
    "\n",
    "        data_vec =[]\n",
    "        #loop through all entries in the infobox\n",
    "        for i in range(len(infobox_data)):\n",
    "            if len(infobox_data[i].find_all('div', {'class': 'plainlist'})) > 0:\n",
    "                l = infobox_data[i].find_all('div', {'class': 'plainlist'})\n",
    "                l=[j.text for j in l[0].find_all('li')]\n",
    "                data_vec.append(l)\n",
    "            else:\n",
    "                data_vec.append(infobox_data[i].text)\n",
    "\n",
    "        DF_n = pd.DataFrame({'label': infobox_label_text, 'data': data_vec})\n",
    "\n",
    "        ############################################### Clean Data Table ###############################################\n",
    "        \n",
    "        #founded\n",
    "        if ((DF_n['label']=='Founded').any()) and not isinstance(DF_n.loc[int(np.where(DF_n['label']=='Founded')[0])]['data'],list):\n",
    "            string = DF_n[DF_n['label']=='Founded']['data'].values[0]\n",
    "            #stringf = DF_n[DF_n['label']=='Founded']['data'].values[0]\n",
    "            DF_n.loc[DF_n['label']=='Founded','data'] = re.findall(r'\\d{4}', string)[0]\n",
    "            #print(re.findall(r'\\d{4}', string.values[0])[0])\n",
    "        #headquarters\n",
    "        if(DF_n['label']=='Headquarters').any() and not isinstance(DF_n.loc[int(np.where(DF_n['label']=='Headquarters')[0])]['data'],list):\n",
    "            string = DF_n[DF_n['label']=='Headquarters']['data'].values[0]\n",
    "            str_split = string.split(',')\n",
    "            #insert list in the dataframe\n",
    "            DF_n.iat[int(np.where(DF_n['label']=='Headquarters')[0]),DF_n.columns.get_loc('data')] = str_split\n",
    "\n",
    "        #products\n",
    "        if(DF_n['label']=='Products').any() and not isinstance(DF_n.loc[int(np.where(DF_n['label']=='Products')[0])]['data'],list):\n",
    "            string = DF_n[DF_n['label']=='Products']['data'].values[0]\n",
    "            #split st by a upper case letter\n",
    "            str_split = re.findall(r'[A-Z][^A-Z]*', string)\n",
    "            DF_n.iat[int(np.where(DF_n['label']=='Products')[0]),DF_n.columns.get_loc('data')] = str_split\n",
    "\n",
    "        #division\n",
    "        if(DF_n['label']=='Divisions').any() and not isinstance(DF_n.loc[int(np.where(DF_n['label']=='Divisions')[0])]['data'],list):\n",
    "            string = DF_n[DF_n['label']=='Divisions']['data'].values[0]\n",
    "            #split st by a upper case letter\n",
    "            str_split = string.split(',')\n",
    "            DF_n.iat[int(np.where(DF_n['label']=='Divisions')[0]),DF_n.columns.get_loc('data')] = str_split\n",
    "\n",
    "        #number of employees\n",
    "        if(DF_n['label']=='Number of employees').any() and not isinstance(DF_n.loc[int(np.where(DF_n['label']=='Number of employees')[0])]['data'],list):\n",
    "            string = DF_n[DF_n['label']=='Number of employees']['data'].values[0]\n",
    "            string = string.replace(',','')\n",
    "            #find all numbers in the string\n",
    "            numbers = re.findall(r'\\d+', string)[0]\n",
    "            DF_n.iat[int(np.where(DF_n['label']=='Number of employees')[0]),DF_n.columns.get_loc('data')] = numbers\n",
    "\n",
    "        #networth\n",
    "        stats = [\"Revenue\", \"Operating income\", \"Net income\", \"Total assets\", \"Total equity\"]\n",
    "\n",
    "        for stat in stats:\n",
    "            if(DF_n['label']==stat).any() and not isinstance(DF_n.loc[int(np.where(DF_n['label']==stat)[0])]['data'],list):\n",
    "                string = DF_n[DF_n['label']==stat]['data'].values[0]\n",
    "                string = string.split(' (')[0]\n",
    "                DF_n.iat[int(np.where(DF_n['label']==stat)[0]),DF_n.columns.get_loc('data')] = string\n",
    "                \n",
    "        #subsidaries\n",
    "        if(DF_n['label']=='Subsidiaries').any() and not isinstance(DF_n.loc[int(np.where(DF_n['label']=='Subsidiaries')[0])]['data'],list):\n",
    "            string = DF_n[DF_n['label']=='Subsidiaries']['data'].values[0]\n",
    "            #split st by a upper case letter\n",
    "            str_split = string.split(',')\n",
    "            #insert list in the dataframe\n",
    "            DF_n.iat[int(np.where(DF_n['label']=='Subsidiaries')[0]),DF_n.columns.get_loc('data')] = str_split\n",
    "\n",
    "        Dataframes.append(DF_n)\n",
    "        #Dataframes.append(DF_n)\n",
    "    except:\n",
    "        Dataframes.append(pd.DataFrame({'label': ['no info'], 'data': ['missing']}))\n",
    "    finally:\n",
    "        #print(\"The 'try except' is finished\")\n",
    "        next"
   ]
  },
  {
   "cell_type": "code",
   "execution_count": 160,
   "metadata": {},
   "outputs": [],
   "source": [
    "#json to pandas dataframe\n",
    "df['Wikipedia Entry'] = Dataframes"
   ]
  },
  {
   "cell_type": "code",
   "execution_count": 162,
   "metadata": {},
   "outputs": [],
   "source": [
    "#-----Password hidden\n",
    "f=open(\"PW.txt\", \"r\") \n",
    "userPw=[f.readline()]\n",
    "f.close()"
   ]
  },
  {
   "cell_type": "code",
   "execution_count": 163,
   "metadata": {},
   "outputs": [
    {
     "name": "stdout",
     "output_type": "stream",
     "text": [
      "con done\n"
     ]
    }
   ],
   "source": [
    "#------------------------SQL Connection\n",
    "\n",
    "conn = psycopg2.connect(host=\"mds-dsi-db.postgres.database.azure.com\",\n",
    "                        port=\"5432\",\n",
    "                        database=\"finance_data\",\n",
    "                        user=\"ds22m017\",\n",
    "                        password=str(userPw[0]),\n",
    "                        connect_timeout=3)\n",
    "cur = conn.cursor()\n",
    "\n",
    "print(\"con done\")"
   ]
  },
  {
   "cell_type": "code",
   "execution_count": 164,
   "metadata": {},
   "outputs": [
    {
     "name": "stdout",
     "output_type": "stream",
     "text": [
      "create done\n"
     ]
    }
   ],
   "source": [
    "#-----------------------CREATE TABLES\n",
    "\n",
    "\n",
    "tables = ['wiki_sp_500_companies']\n",
    "for table in tables:\n",
    "    cur.execute(f\"DROP TABLE IF EXISTS {table} CASCADE;\")\n",
    "    cur.execute(f\"CREATE TABLE IF NOT EXISTS {table} (id serial, Symbol VARCHAR(50), Sector VARCHAR(50), info JSONB);\")\n",
    "conn.commit()\n",
    "\n",
    "\n",
    "print(\"create done\")"
   ]
  },
  {
   "cell_type": "code",
   "execution_count": 165,
   "metadata": {},
   "outputs": [],
   "source": [
    "for i in range(len(df)):\n",
    "    sym = df['Symbol'][i]\n",
    "    sec = df['Sector'][i]\n",
    "    j_son = df['Wikipedia Entry'][i].set_index('label').transpose().to_json(orient='records').replace('\\\\u00a0','')[1:-1]\n",
    "    \n",
    "    #postgres_insert_query = \"\"\" INSERT INTO wiki_sp_500_companies (ID, MODEL, PRICE) VALUES (%s,%s,%s)\"\"\"\n",
    "    cur.execute(f\"INSERT INTO wiki_sp_500_companies ( Symbol,Sector, info) VALUES (%s,%s,%s)\", [sym,sec, j_son])\n",
    "conn.commit()\n",
    "\n"
   ]
  }
 ],
 "metadata": {
  "kernelspec": {
   "display_name": "base",
   "language": "python",
   "name": "python3"
  },
  "language_info": {
   "codemirror_mode": {
    "name": "ipython",
    "version": 3
   },
   "file_extension": ".py",
   "mimetype": "text/x-python",
   "name": "python",
   "nbconvert_exporter": "python",
   "pygments_lexer": "ipython3",
   "version": "3.9.12"
  },
  "orig_nbformat": 4,
  "vscode": {
   "interpreter": {
    "hash": "f0772a89b7b7552231f8b4808588399a8029470ff763161a0caeccf5fec49431"
   }
  }
 },
 "nbformat": 4,
 "nbformat_minor": 2
}
