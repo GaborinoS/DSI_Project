{
 "cells": [
  {
   "cell_type": "code",
   "execution_count": 49,
   "metadata": {},
   "outputs": [],
   "source": [
    "import pandas as pd\n",
    "import requests\n",
    "from bs4 import BeautifulSoup\n",
    "import time\n",
    "import re\n",
    "import numpy as np\n",
    "import json\n",
    "import os\n",
    "from psycopg2.extras import Json\n",
    "import psycopg2"
   ]
  },
  {
   "cell_type": "code",
   "execution_count": 50,
   "metadata": {},
   "outputs": [
    {
     "name": "stdout",
     "output_type": "stream",
     "text": [
      "con done\n"
     ]
    },
    {
     "name": "stderr",
     "output_type": "stream",
     "text": [
      "c:\\Users\\gabri\\anaconda3\\lib\\site-packages\\pandas\\io\\sql.py:761: UserWarning: pandas only support SQLAlchemy connectable(engine/connection) ordatabase string URI or sqlite3 DBAPI2 connectionother DBAPI2 objects are not tested, please consider using SQLAlchemy\n",
      "  warnings.warn(\n"
     ]
    },
    {
     "name": "stdout",
     "output_type": "stream",
     "text": [
      "query done\n"
     ]
    }
   ],
   "source": [
    "#-----Password hidden\n",
    "f=open(\"PW.txt\", \"r\") \n",
    "userPw=[f.readline()]\n",
    "f.close()\n",
    "#------------------------SQL Connection\n",
    "\n",
    "conn = psycopg2.connect(host=\"mds-dsi-db.postgres.database.azure.com\",\n",
    "                        port=\"5432\",\n",
    "                        database=\"finance_data\",\n",
    "                        user=\"ds22m017\",\n",
    "                        password=str(userPw[0]),\n",
    "                        connect_timeout=3)\n",
    "cur = conn.cursor()\n",
    "\n",
    "print(\"con done\")\n",
    "\n",
    "#------------------------SQL Query\n",
    "query = \"SELECT * FROM wiki_sp_500_companies\"\n",
    "SP_500 = pd.read_sql_query(query, conn)\n",
    "\n",
    "print(\"query done\")\n",
    "\n",
    "#------------------------SQL Close\n",
    "cur.close()\n",
    "conn.close()"
   ]
  },
  {
   "cell_type": "code",
   "execution_count": 55,
   "metadata": {},
   "outputs": [],
   "source": [
    "tickers = SP_500['symbol']"
   ]
  },
  {
   "cell_type": "code",
   "execution_count": null,
   "metadata": {},
   "outputs": [],
   "source": []
  },
  {
   "cell_type": "code",
   "execution_count": null,
   "metadata": {},
   "outputs": [],
   "source": []
  },
  {
   "cell_type": "code",
   "execution_count": null,
   "metadata": {},
   "outputs": [],
   "source": []
  },
  {
   "cell_type": "code",
   "execution_count": null,
   "metadata": {},
   "outputs": [],
   "source": [
    "\n"
   ]
  },
  {
   "cell_type": "code",
   "execution_count": null,
   "metadata": {},
   "outputs": [],
   "source": [
    "\n",
    "\n",
    "\n",
    "\n"
   ]
  },
  {
   "cell_type": "code",
   "execution_count": null,
   "metadata": {},
   "outputs": [],
   "source": []
  },
  {
   "cell_type": "code",
   "execution_count": null,
   "metadata": {},
   "outputs": [],
   "source": []
  },
  {
   "cell_type": "code",
   "execution_count": null,
   "metadata": {},
   "outputs": [],
   "source": []
  }
 ],
 "metadata": {
  "kernelspec": {
   "display_name": "base",
   "language": "python",
   "name": "python3"
  },
  "language_info": {
   "codemirror_mode": {
    "name": "ipython",
    "version": 3
   },
   "file_extension": ".py",
   "mimetype": "text/x-python",
   "name": "python",
   "nbconvert_exporter": "python",
   "pygments_lexer": "ipython3",
   "version": "3.9.12"
  },
  "orig_nbformat": 4,
  "vscode": {
   "interpreter": {
    "hash": "f0772a89b7b7552231f8b4808588399a8029470ff763161a0caeccf5fec49431"
   }
  }
 },
 "nbformat": 4,
 "nbformat_minor": 2
}
