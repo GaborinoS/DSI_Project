{
 "cells": [
  {
   "cell_type": "code",
   "execution_count": 2,
   "metadata": {},
   "outputs": [],
   "source": [
    "import pandas as pd\n",
    "import numpy as np\n",
    "import json\n",
    "from psycopg2.extras import Json\n",
    "import psycopg2"
   ]
  },
  {
   "cell_type": "code",
   "execution_count": 3,
   "metadata": {},
   "outputs": [
    {
     "name": "stdout",
     "output_type": "stream",
     "text": [
      "con done\n"
     ]
    },
    {
     "name": "stderr",
     "output_type": "stream",
     "text": [
      "c:\\Users\\gabri\\anaconda3\\lib\\site-packages\\pandas\\io\\sql.py:761: UserWarning: pandas only support SQLAlchemy connectable(engine/connection) ordatabase string URI or sqlite3 DBAPI2 connectionother DBAPI2 objects are not tested, please consider using SQLAlchemy\n",
      "  warnings.warn(\n"
     ]
    },
    {
     "name": "stdout",
     "output_type": "stream",
     "text": [
      "query done\n"
     ]
    }
   ],
   "source": [
    "#-----Password hidden\n",
    "f=open(\"PW.txt\", \"r\") \n",
    "userPw=[f.readline()]\n",
    "f.close()\n",
    "#------------------------SQL Connection\n",
    "\n",
    "conn = psycopg2.connect(host=\"mds-dsi-db.postgres.database.azure.com\",\n",
    "                        port=\"5432\",\n",
    "                        database=\"finance_data\",\n",
    "                        user=\"ds22m017\",\n",
    "                        password=str(userPw[0]),#SchachingeR14\n",
    "                        connect_timeout=3)\n",
    "cur = conn.cursor()\n",
    "\n",
    "print(\"con done\")\n",
    "\n",
    "#------------------------SQL Query\n",
    "query = \"SELECT * FROM wiki_sp_500_companies\"\n",
    "SP_500 = pd.read_sql_query(query, conn)\n",
    "\n",
    "print(\"query done\")\n",
    "\n",
    "#------------------------SQL Close\n",
    "cur.close()\n",
    "conn.close()"
   ]
  },
  {
   "cell_type": "code",
   "execution_count": 58,
   "metadata": {},
   "outputs": [],
   "source": [
    "ticker='CRM'"
   ]
  },
  {
   "cell_type": "code",
   "execution_count": 59,
   "metadata": {},
   "outputs": [
    {
     "data": {
      "text/html": [
       "<style type=\"text/css\">\n",
       "</style>\n",
       "<table id=\"T_281e4\">\n",
       "  <thead>\n",
       "    <tr>\n",
       "      <th class=\"blank level0\" >&nbsp;</th>\n",
       "      <th id=\"T_281e4_level0_col0\" class=\"col_heading level0 col0\" >CRM</th>\n",
       "    </tr>\n",
       "  </thead>\n",
       "  <tbody>\n",
       "    <tr>\n",
       "      <th id=\"T_281e4_level0_row0\" class=\"row_heading level0 row0\" >Type</th>\n",
       "      <td id=\"T_281e4_row0_col0\" class=\"data row0 col0\" >Public company</td>\n",
       "    </tr>\n",
       "    <tr>\n",
       "      <th id=\"T_281e4_level0_row1\" class=\"row_heading level0 row1\" >Founded</th>\n",
       "      <td id=\"T_281e4_row1_col0\" class=\"data row1 col0\" >1999</td>\n",
       "    </tr>\n",
       "    <tr>\n",
       "      <th id=\"T_281e4_level0_row2\" class=\"row_heading level0 row2\" >Revenue</th>\n",
       "      <td id=\"T_281e4_row2_col0\" class=\"data row2 col0\" > US$26.49 billion</td>\n",
       "    </tr>\n",
       "    <tr>\n",
       "      <th id=\"T_281e4_level0_row3\" class=\"row_heading level0 row3\" >Website</th>\n",
       "      <td id=\"T_281e4_row3_col0\" class=\"data row3 col0\" >salesforce.com</td>\n",
       "    </tr>\n",
       "    <tr>\n",
       "      <th id=\"T_281e4_level0_row4\" class=\"row_heading level0 row4\" >Formerly</th>\n",
       "      <td id=\"T_281e4_row4_col0\" class=\"data row4 col0\" >salesforce.com, inc.</td>\n",
       "    </tr>\n",
       "    <tr>\n",
       "      <th id=\"T_281e4_level0_row5\" class=\"row_heading level0 row5\" >Founders</th>\n",
       "      <td id=\"T_281e4_row5_col0\" class=\"data row5 col0\" >['Marc Benioff', 'Parker Harris', 'Dave Moellenhoff', 'Frank Dominguez']</td>\n",
       "    </tr>\n",
       "    <tr>\n",
       "      <th id=\"T_281e4_level0_row6\" class=\"row_heading level0 row6\" >Industry</th>\n",
       "      <td id=\"T_281e4_row6_col0\" class=\"data row6 col0\" >Cloud computingEnterprise softwareConsulting</td>\n",
       "    </tr>\n",
       "    <tr>\n",
       "      <th id=\"T_281e4_level0_row7\" class=\"row_heading level0 row7\" >Services</th>\n",
       "      <td id=\"T_281e4_row7_col0\" class=\"data row7 col0\" >Cloud computing</td>\n",
       "    </tr>\n",
       "    <tr>\n",
       "      <th id=\"T_281e4_level0_row8\" class=\"row_heading level0 row8\" >Traded as</th>\n",
       "      <td id=\"T_281e4_row8_col0\" class=\"data row8 col0\" >['NYSE:CRM', 'DJIA component', 'S&P 100 component', 'S&P 500 component']</td>\n",
       "    </tr>\n",
       "    <tr>\n",
       "      <th id=\"T_281e4_level0_row9\" class=\"row_heading level0 row9\" >Key people</th>\n",
       "      <td id=\"T_281e4_row9_col0\" class=\"data row9 col0\" >['Marc Benioff(Chairman & co-CEO)', 'Bret Taylor(Vice Chair & co-CEO)']</td>\n",
       "    </tr>\n",
       "    <tr>\n",
       "      <th id=\"T_281e4_level0_row10\" class=\"row_heading level0 row10\" >Net income</th>\n",
       "      <td id=\"T_281e4_row10_col0\" class=\"data row10 col0\" > US$1.44 billion</td>\n",
       "    </tr>\n",
       "    <tr>\n",
       "      <th id=\"T_281e4_level0_row11\" class=\"row_heading level0 row11\" >Trade name</th>\n",
       "      <td id=\"T_281e4_row11_col0\" class=\"data row11 col0\" >Salesforce</td>\n",
       "    </tr>\n",
       "    <tr>\n",
       "      <th id=\"T_281e4_level0_row12\" class=\"row_heading level0 row12\" >Headquarters</th>\n",
       "      <td id=\"T_281e4_row12_col0\" class=\"data row12 col0\" >['Salesforce TowerSan Francisco', ' California', ' U.S.']</td>\n",
       "    </tr>\n",
       "    <tr>\n",
       "      <th id=\"T_281e4_level0_row13\" class=\"row_heading level0 row13\" >Subsidiaries</th>\n",
       "      <td id=\"T_281e4_row13_col0\" class=\"data row13 col0\" >['Quip', 'Heroku', 'MuleSoft', 'Tableau Software', 'Acumen Solutions', 'Slack Technologies']</td>\n",
       "    </tr>\n",
       "    <tr>\n",
       "      <th id=\"T_281e4_level0_row14\" class=\"row_heading level0 row14\" >Total assets</th>\n",
       "      <td id=\"T_281e4_row14_col0\" class=\"data row14 col0\" > US$95.21 billion</td>\n",
       "    </tr>\n",
       "    <tr>\n",
       "      <th id=\"T_281e4_level0_row15\" class=\"row_heading level0 row15\" >Total equity</th>\n",
       "      <td id=\"T_281e4_row15_col0\" class=\"data row15 col0\" > US$58.13 billion</td>\n",
       "    </tr>\n",
       "    <tr>\n",
       "      <th id=\"T_281e4_level0_row16\" class=\"row_heading level0 row16\" >Operating income</th>\n",
       "      <td id=\"T_281e4_row16_col0\" class=\"data row16 col0\" > US$548 million</td>\n",
       "    </tr>\n",
       "    <tr>\n",
       "      <th id=\"T_281e4_level0_row17\" class=\"row_heading level0 row17\" >Number of employees</th>\n",
       "      <td id=\"T_281e4_row17_col0\" class=\"data row17 col0\" >73542</td>\n",
       "    </tr>\n",
       "  </tbody>\n",
       "</table>\n"
      ],
      "text/plain": [
       "<pandas.io.formats.style.Styler at 0x1b46b0ee250>"
      ]
     },
     "execution_count": 59,
     "metadata": {},
     "output_type": "execute_result"
    }
   ],
   "source": [
    "df_info = pd.DataFrame([SP_500[SP_500['symbol'] == ticker]['info'].values[0]]  ).T\n",
    "df_info.columns = [ticker]\n",
    "\n",
    "\n",
    "df_info.style\n"
   ]
  },
  {
   "cell_type": "code",
   "execution_count": 60,
   "metadata": {},
   "outputs": [
    {
     "data": {
      "text/plain": [
       "Index(['Type', 'Founded', 'Revenue', 'Website', 'Formerly', 'Founders',\n",
       "       'Industry', 'Services', 'Traded as', 'Key people', 'Net income',\n",
       "       'Trade name', 'Headquarters', 'Subsidiaries', 'Total assets',\n",
       "       'Total equity', 'Operating income', 'Number of employees'],\n",
       "      dtype='object')"
      ]
     },
     "execution_count": 60,
     "metadata": {},
     "output_type": "execute_result"
    }
   ],
   "source": [
    "df_info.index"
   ]
  },
  {
   "cell_type": "code",
   "execution_count": null,
   "metadata": {},
   "outputs": [],
   "source": [
    "''''''"
   ]
  },
  {
   "cell_type": "code",
   "execution_count": null,
   "metadata": {},
   "outputs": [],
   "source": []
  },
  {
   "cell_type": "code",
   "execution_count": null,
   "metadata": {},
   "outputs": [],
   "source": []
  },
  {
   "cell_type": "code",
   "execution_count": null,
   "metadata": {},
   "outputs": [],
   "source": [
    "\n"
   ]
  },
  {
   "cell_type": "code",
   "execution_count": null,
   "metadata": {},
   "outputs": [],
   "source": [
    "\n",
    "\n",
    "\n",
    "\n"
   ]
  },
  {
   "cell_type": "code",
   "execution_count": null,
   "metadata": {},
   "outputs": [],
   "source": []
  },
  {
   "cell_type": "code",
   "execution_count": null,
   "metadata": {},
   "outputs": [],
   "source": []
  },
  {
   "cell_type": "code",
   "execution_count": null,
   "metadata": {},
   "outputs": [],
   "source": []
  }
 ],
 "metadata": {
  "kernelspec": {
   "display_name": "base",
   "language": "python",
   "name": "python3"
  },
  "language_info": {
   "codemirror_mode": {
    "name": "ipython",
    "version": 3
   },
   "file_extension": ".py",
   "mimetype": "text/x-python",
   "name": "python",
   "nbconvert_exporter": "python",
   "pygments_lexer": "ipython3",
   "version": "3.9.12"
  },
  "orig_nbformat": 4,
  "vscode": {
   "interpreter": {
    "hash": "f0772a89b7b7552231f8b4808588399a8029470ff763161a0caeccf5fec49431"
   }
  }
 },
 "nbformat": 4,
 "nbformat_minor": 2
}
